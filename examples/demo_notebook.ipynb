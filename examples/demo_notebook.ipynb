{
 "cells": [
  {
   "cell_type": "markdown",
   "id": "f924d3236bef1b09",
   "metadata": {},
   "source": [
    "# Hybrid Memory Demo — Notebook\n",
    "\n",
    "This notebook walks through a tiny but complete hybrid-memory workflow, step by step, following the ideas in the accompanying article and implementation plan.\n",
    "\n",
    "What you'll see:\n",
    "- Two memories:\n",
    "  - Episodic: last turns and tool outputs (append-only log).\n",
    "  - Semantic: small policy snippets indexed with a tiny offline encoder.\n",
    "- A Hybrid Retriever that merges both, annotates provenance, and trims by a token budget.\n",
    "- Two toy tools: `lookup_user` and `reset_password`.\n",
    "- A minimal `Agent` that orchestrates: log → retrieve → (maybe) tool → retrieve → answer.\n",
    "- Minimal traces written as JSONL and visualized at the end.\n",
    "\n",
    "How to run:\n",
    "- From the repo root: `just notebook` (opens Jupyter Lab in the examples folder).\n",
    "- Then open this notebook and Run All.\n",
    "\n",
    "This is fully offline and deterministic; great for a quick live walkthrough.\n"
   ]
  },
  {
   "cell_type": "markdown",
   "id": "671b89ce8924b7b6",
   "metadata": {},
   "source": [
    "## 1) Setup: imports and paths\n",
    "We add the project `src/` to `sys.path` so imports work smoothly when running from `examples/`.\n"
   ]
  },
  {
   "cell_type": "code",
   "execution_count": 3,
   "id": "cec2511a93c3570f",
   "metadata": {},
   "outputs": [
    {
     "name": "stdout",
     "output_type": "stream",
     "text": [
      "Project root: /Users/fabricio/Projects/fabricio/hybrid-memory-talk\n",
      "Using src at: /Users/fabricio/Projects/fabricio/hybrid-memory-talk/src\n"
     ]
    }
   ],
   "source": [
    "from pathlib import Path\n",
    "import sys, json, time\n",
    "\n",
    "# Robustly locate project root when __file__ is undefined in notebooks\n",
    "# Strategy: try this file's dir, else CWD, then walk up to find a folder containing 'src'\n",
    "try:\n",
    "    _base = Path(__file__).resolve().parent  # type: ignore[name-defined]\n",
    "except NameError:\n",
    "    _base = Path.cwd()\n",
    "\n",
    "candidates = [_base, _base.parent, _base.parent.parent]\n",
    "ROOT = next((p for p in candidates if (p / 'src').exists()), _base)\n",
    "SRC = ROOT / 'src'\n",
    "if str(SRC) not in sys.path:\n",
    "    sys.path.append(str(SRC))\n",
    "\n",
    "print('Project root:', ROOT)\n",
    "print('Using src at:', SRC)\n"
   ]
  },
  {
   "cell_type": "markdown",
   "id": "e3db06699b015598",
   "metadata": {},
   "source": [
    "## 2) Tiny offline encoder and policy seeding\n",
    "We mirror the CLI demo by seeding a small semantic store from `examples/policies/`. The encoder is a tiny hash sketch — no external services.\n"
   ]
  },
  {
   "cell_type": "code",
   "execution_count": 4,
   "id": "499e340d51ab6b9b",
   "metadata": {},
   "outputs": [
    {
     "data": {
      "text/plain": [
       "['policy_cooldown',\n",
       " 'policy_password',\n",
       " 'policy_security',\n",
       " 'policy_steps',\n",
       " 'policy_verification']"
      ]
     },
     "execution_count": 4,
     "metadata": {},
     "output_type": "execute_result"
    }
   ],
   "source": [
    "import hashlib\n",
    "from typing import Dict, List\n",
    "\n",
    "from memory.semantic_store import SemanticStore\n",
    "\n",
    "class TinyHashEncoder:\n",
    "    def __init__(self, dim: int = 64):\n",
    "        self.dim = dim\n",
    "    def embed(self, text: str):\n",
    "        d = self.dim\n",
    "        vec = [0.0] * d\n",
    "        for tok in (text or '').lower().split():\n",
    "            h = int(hashlib.md5(tok.encode('utf-8')).hexdigest(), 16)\n",
    "            for i in range(4):\n",
    "                idx = (h >> (i * 8)) % d\n",
    "                sign = 1.0 if ((h >> (i * 2)) & 1) else -1.0\n",
    "                vec[idx] += sign\n",
    "        return vec\n",
    "\n",
    "POLICY_DIR = (ROOT / 'examples' / 'policies')\n",
    "\n",
    "def read_policies() -> List[Dict]:\n",
    "    items: List[Dict] = []\n",
    "    for p in sorted(POLICY_DIR.glob('*.md')):\n",
    "        text = p.read_text(encoding='utf-8').strip()\n",
    "        lines = [ln.strip() for ln in text.splitlines() if ln.strip()]\n",
    "        if not lines:\n",
    "            continue\n",
    "        section = lines[0].lstrip('# ')\n",
    "        body = ' '.join(lines[1:]) if len(lines) > 1 else section\n",
    "        items.append({\n",
    "            'id': p.stem,\n",
    "            'text': body,\n",
    "            'metadata': {'source': p.name, 'section': section, 'tags': ['policy'], 'pii': False},\n",
    "        })\n",
    "    return items\n",
    "\n",
    "encoder = TinyHashEncoder()\n",
    "sem = SemanticStore(encoder=encoder)\n",
    "seeded = []\n",
    "for item in read_policies():\n",
    "    sem.upsert(item)\n",
    "    seeded.append(item['id'])\n",
    "seeded\n"
   ]
  },
  {
   "cell_type": "markdown",
   "id": "34f8809b4b03604e",
   "metadata": {},
   "source": [
    "## 3) Build episodic store, retriever, agent, and tracer\n",
    "We create the `EpisodicStore`, the `HybridRetriever` (which merges episodic and semantic memory), and the `Agent`.\n",
    "\n",
    "The tracer writes minimal rows to a notebook-specific JSONL file so you can reload and visualize without clobbering other traces.\n"
   ]
  },
  {
   "cell_type": "code",
   "execution_count": 5,
   "id": "e61ecfde2fef192c",
   "metadata": {},
   "outputs": [
    {
     "data": {
      "text/plain": [
       "PosixPath('/Users/fabricio/Projects/fabricio/hybrid-memory-talk/out/traces_nb.jsonl')"
      ]
     },
     "execution_count": 5,
     "metadata": {},
     "output_type": "execute_result"
    }
   ],
   "source": [
    "from memory.episodic_store import EpisodicStore\n",
    "from memory.hybrid_retriever import HybridRetriever\n",
    "from tracing.tracer import Tracer\n",
    "from agent import Agent\n",
    "\n",
    "OUT_DIR = ROOT / 'out'\n",
    "OUT_DIR.mkdir(exist_ok=True)\n",
    "TRACE_FILE = OUT_DIR / 'traces_nb.jsonl'\n",
    "\n",
    "epi = EpisodicStore(max_len=50)\n",
    "retriever = HybridRetriever(episodic=epi, semantic=sem)\n",
    "tracer = Tracer(path=str(TRACE_FILE))\n",
    "agent = Agent(retriever=retriever, task_id='support_demo_nb', session='sess_nb', tracer=tracer)\n",
    "\n",
    "TRACE_FILE\n"
   ]
  },
  {
   "cell_type": "markdown",
   "id": "d1836720f0590020",
   "metadata": {},
   "source": [
    "## 4) First user turn — triggers tools\n",
    "We ask to reset a password with a concrete email. The agent should:\n",
    "1. Log the user turn (episodic).\n",
    "2. Retrieve hybrid context.\n",
    "3. Plan tool calls (`lookup_user` and if verified `reset_password`).\n",
    "4. Log tool call and result.\n",
    "5. Retrieve again and answer with a short, cited response.\n"
   ]
  },
  {
   "cell_type": "code",
   "execution_count": 6,
   "id": "90b0ad4efc7db76a",
   "metadata": {},
   "outputs": [
    {
     "name": "stdout",
     "output_type": "stream",
     "text": [
      "User asked: Hi, I forgot my password. My email is ana@example.com. Can you reset it?\n",
      "Key recent events:\n",
      "- reset_password({'email': 'ana@example.com'})\n",
      "- reset_password -> {'ok': True, 'token': 'reset_36324b2c36', 'reason': None}\n",
      "Relevant policy:\n",
      "- After a successful password reset, users must wait 10 minutes before requesting another. (source: policy_cooldown.md#Cooldown period)\n",
      "- Customers must verify their email before we can send a password reset link. (source: policy_password.md#Password reset)\n",
      "\n",
      "Response:\n",
      "It looks like you want to reset your password. If your email is verified, you'll receive a reset link.\n",
      "\n",
      "Internal checklist:\n",
      "- Confirm email on file\n",
      "- Follow policy step 2 if unverified\n"
     ]
    }
   ],
   "source": [
    "q1 = 'Hi, I forgot my password. My email is ana@example.com. Can you reset it?'\n",
    "a1 = agent.answer(q1)\n",
    "print(a1)\n"
   ]
  },
  {
   "cell_type": "markdown",
   "id": "49a6a7441e0a5d9e",
   "metadata": {},
   "source": [
    "### What context did we retrieve?\n",
    "Below we list the merged context items with their kind and provenance (source).\n"
   ]
  },
  {
   "cell_type": "code",
   "execution_count": 7,
   "id": "9b22c3bc8aac042",
   "metadata": {},
   "outputs": [
    {
     "name": "stdout",
     "output_type": "stream",
     "text": [
      "- [episodic] episodic@2025-09-28T02:08:35.523682Z#user_turn :: Hi, I forgot my password. My email is ana@example.com. Can you reset it?\n",
      "- [episodic] episodic@2025-09-28T02:08:35.526660Z#tool_call :: reset_password({'email': 'ana@example.com'})\n",
      "- [episodic] episodic@2025-09-28T02:08:35.526724Z#tool_result :: reset_password -> {'ok': True, 'token': 'reset_36324b2c36', 'reason': None}\n",
      "- [episodic] episodic@2025-09-28T02:08:35.527195Z#assistant_turn :: User asked: Hi, I forgot my password. My email is ana@example.com. Can you reset it?\n",
      "Key recent even\n",
      "- [semantic] policy_cooldown.md#Cooldown period :: After a successful password reset, users must wait 10 minutes before requesting another.\n",
      "- [semantic] policy_password.md#Password reset :: Customers must verify their email before we can send a password reset link.\n",
      "- [semantic] policy_security.md#Security :: Never share reset tokens in chat responses. Tokens are secret and should only be sent by email.\n"
     ]
    }
   ],
   "source": [
    "ctx_after = retriever.retrieve(q1)\n",
    "for it in ctx_after:\n",
    "    kind = it.get('kind')\n",
    "    src = it.get('source', it.get('metadata', {}).get('source'))\n",
    "    text = it.get('text','')\n",
    "    print(f'- [{kind}] {src} :: {text[:100]}')\n"
   ]
  },
  {
   "cell_type": "markdown",
   "id": "11a2ee69fb72d8d8",
   "metadata": {},
   "source": [
    "## 5) Second user turn — follow up\n",
    "Now ask for the steps. This likely won't trigger tools, but should pull the relevant policy snippets.\n"
   ]
  },
  {
   "cell_type": "code",
   "execution_count": 8,
   "id": "1fb36989dfee13f5",
   "metadata": {},
   "outputs": [
    {
     "name": "stdout",
     "output_type": "stream",
     "text": [
      "User asked: Thanks! What are the steps involved?\n",
      "Key recent events:\n",
      "- User asked: Hi, I forgot my password. My email is ana@example.com. Can you reset it?\n",
      "Key recent events:\n",
      "- reset_password({'email': 'ana@example.com'})\n",
      "- reset_password -> {'ok': True, 'token': 'reset_36324b2c36', 'reason': None}\n",
      "Relevant policy:\n",
      "- After a successful password reset, users must wait 10 minutes before requesting another. (source: policy_cooldown.md#Cooldown period)\n",
      "- Customers must verify their email before we can send a password reset link. (source: policy_password.md#Password reset)\n",
      "\n",
      "Response:\n",
      "It looks like you want to reset your password. If your email is verified, you'll receive a reset link.\n",
      "\n",
      "Internal checklist:\n",
      "- Confirm email on file\n",
      "- Follow policy step 2 if unverified\n",
      "- Thanks! What are the steps involved?\n",
      "Relevant policy:\n",
      "- Checklist: confirm identity, verify email, send reset link, and log the action per policy. (source: policy_steps.md#Reset steps)\n",
      "- Never share reset tokens in chat responses. Tokens are secret and should only be sent by email. (source: policy_security.md#Security)\n",
      "\n",
      "Response:\n",
      "It looks like you want to reset your password. If your email is verified, you'll receive a reset link.\n",
      "\n",
      "Internal checklist:\n",
      "- Confirm email on file\n",
      "- Follow policy step 2 if unverified\n",
      "- [episodic] episodic@2025-09-28T02:08:35.526724Z#tool_result :: reset_password -> {'ok': True, 'token': 'reset_36324b2c36', 'reason': None}\n",
      "- [episodic] episodic@2025-09-28T02:08:35.527195Z#assistant_turn :: User asked: Hi, I forgot my password. My email is ana@example.com. Can you reset it?\n",
      "Key recent even\n",
      "- [episodic] episodic@2025-09-28T02:10:05.404233Z#user_turn :: Thanks! What are the steps involved?\n",
      "- [episodic] episodic@2025-09-28T02:10:05.406286Z#assistant_turn :: User asked: Thanks! What are the steps involved?\n",
      "Key recent events:\n",
      "- User asked: Hi, I forgot my pa\n",
      "- [semantic] policy_steps.md#Reset steps :: Checklist: confirm identity, verify email, send reset link, and log the action per policy.\n",
      "- [semantic] policy_security.md#Security :: Never share reset tokens in chat responses. Tokens are secret and should only be sent by email.\n",
      "- [semantic] policy_verification.md#Email verification :: Verification emails include a one-time link that expires after 30 minutes.\n"
     ]
    }
   ],
   "source": [
    "q2 = 'Thanks! What are the steps involved?'\n",
    "a2 = agent.answer(q2)\n",
    "print(a2)\n",
    "\n",
    "ctx2 = retriever.retrieve(q2)\n",
    "for it in ctx2:\n",
    "    kind = it.get('kind')\n",
    "    src = it.get('source', it.get('metadata', {}).get('source'))\n",
    "    text = it.get('text','')\n",
    "    print(f'- [{kind}] {src} :: {text[:100]}')\n"
   ]
  },
  {
   "cell_type": "markdown",
   "id": "92c99e1006579e46",
   "metadata": {},
   "source": [
    "## 6) Minimal traces — visualize spans\n",
    "The tracer writes compact JSONL rows: `{ts, span, input_len, ctx_len, retrieved_ids, output_len, latency_ms}`.\n",
    "We load them and show a small summary.\n"
   ]
  },
  {
   "cell_type": "code",
   "execution_count": null,
   "id": "6598deca4b07e13d",
   "metadata": {},
   "outputs": [],
   "source": [
    "def read_jsonl(path: Path):\n",
    "    rows = []\n",
    "    if not path.exists():\n",
    "        return rows\n",
    "    for line in path.read_text(encoding='utf-8').splitlines():\n",
    "        line = line.strip()\n",
    "        if not line:\n",
    "            continue\n",
    "        try:\n",
    "            rows.append(json.loads(line))\n",
    "        except Exception:\n",
    "            pass\n",
    "    return rows\n",
    "\n",
    "rows = read_jsonl(TRACE_FILE)\n",
    "print(f'Read {len(rows)} trace rows from', TRACE_FILE)\n",
    "for i, r in enumerate(rows[-10:]):\n",
    "    print(f\"{i:02d} | span={r.get('span')} | ctx={r.get('ctx_len')} | out={r.get('output_len')} | latency_ms={r.get('latency_ms')} | ids={r.get('retrieved_ids')}\")\n"
   ]
  },
  {
   "cell_type": "markdown",
   "id": "991ec90273d9b8fe",
   "metadata": {},
   "source": [
    "### Optional: quick latency bar\n",
    "A tiny visualization using only the standard library (text-based).\n"
   ]
  },
  {
   "cell_type": "code",
   "execution_count": null,
   "id": "18d0771880261921",
   "metadata": {},
   "outputs": [],
   "source": [
    "def text_bar(val, max_val, width=40):\n",
    "    n = 0 if max_val <= 0 else int((val / max_val) * width)\n",
    "    return '█' * n\n",
    "\n",
    "latencies = [r.get('latency_ms', 0) for r in rows]\n",
    "if latencies:\n",
    "    mx = max(latencies)\n",
    "    print('Latency bars (ms):')\n",
    "    for i, v in enumerate(latencies[-10:]):\n",
    "        print(f\"{i:02d} {v:6.1f} ms | {text_bar(v, mx)}\")\n",
    "else:\n",
    "    print('No latencies recorded yet.')\n"
   ]
  },
  {
   "cell_type": "markdown",
   "id": "b101c89f30a947e5",
   "metadata": {},
   "source": [
    "## Wrap-up\n",
    "You just saw the full flow: episodic logging, semantic policy retrieval, tool calls, hybrid merge with provenance, and minimal traces.\n",
    "\n",
    "Try tweaks:\n",
    "- Edit the policies in `examples/policies/` and re-run the seeding cell.\n",
    "- Change retrieval defaults via environment variables (see `src/config.py`).\n",
    "- Ask different questions (with/without email) to see planning change.\n"
   ]
  }
 ],
 "metadata": {
  "kernelspec": {
   "display_name": "Python 3 (ipykernel)",
   "language": "python",
   "name": "python3"
  },
  "language_info": {
   "codemirror_mode": {
    "name": "ipython",
    "version": 3
   },
   "file_extension": ".py",
   "mimetype": "text/x-python",
   "name": "python",
   "nbconvert_exporter": "python",
   "pygments_lexer": "ipython3",
   "version": "3.11.11"
  }
 },
 "nbformat": 4,
 "nbformat_minor": 5
}
